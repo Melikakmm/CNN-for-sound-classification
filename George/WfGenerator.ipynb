{
 "cells": [
  {
   "cell_type": "code",
   "execution_count": 1,
   "metadata": {},
   "outputs": [],
   "source": [
    "import os\n",
    "import torch\n",
    "import torchaudio\n",
    "from utils import stereo_to_mono\n",
    "\n",
    "data_dir = './fma/data/fma_small'\n",
    "output_dir = './fma/data/waveforms'\n",
    "sampling_rate = 22_050\n",
    "max_ms = 30_000\n",
    "SUBSAMPLING = False\n",
    "\n",
    "# create the output directory if it doesn't exist\n",
    "if not os.path.exists(output_dir):\n",
    "    os.makedirs(output_dir)\n",
    "    \n",
    "# loop through all MP3 files in the data directory\n",
    "for root, dirs, files in os.walk(data_dir):\n",
    "    for filename in files:\n",
    "        if filename.endswith('.mp3'):\n",
    "            try:\n",
    "                filepath = os.path.join(root, filename)\n",
    "                sig, sr = torchaudio.load(filepath)\n",
    "                sig = stereo_to_mono(sig) \n",
    "    \n",
    "                # resample to the desired sampling rate\n",
    "                if sr != sampling_rate:\n",
    "                    sig = torchaudio.transforms.Resample(sr, sampling_rate)(sig)     \n",
    "            \n",
    "                if SUBSAMPLING:\n",
    "                    subsample_length = sampling_rate * 5  # 5 seconds\n",
    "                    overlap = int(subsample_length * 0.25)  # 25% overlap\n",
    "                    subsamples = []\n",
    "                    shift = subsample_length - overlap\n",
    "                    for i in range(0, sig.size(0) - subsample_length + 1, shift):\n",
    "                        subsample = sig[i:(i + subsample_length)]\n",
    "                        subsamples.append(subsample)\n",
    "\n",
    "                        if len(subsamples) == 7: break\n",
    "            \n",
    "                    # ignore samples that have less than 30s (it should not be the case but there is a 15s sample in validation dataset we dont know why)\n",
    "                    if len(subsamples) != 7: continue\n",
    "                    \n",
    "                    for idx, subsample in enumerate(subsamples): \n",
    "                        # save the spectrogram to the output directory\n",
    "                        output_file = os.path.join(output_dir, filename[:-4] + f'_{idx}.pt')\n",
    "                        torch.save(subsample, output_file)\n",
    "                    \n",
    "                else:\n",
    "                    # resize to a fixed length\n",
    "                    sig_len = sig.shape[0]\n",
    "                    max_len = sampling_rate//1000 * max_ms\n",
    "                    if sig_len > max_len:\n",
    "                        sig = sig[:max_len]\n",
    "                    elif sig_len < max_len:\n",
    "                        padding = max_len - sig_len\n",
    "                        padding_tensor = torch.zeros((padding, sig.shape[1]))\n",
    "                        sig = torch.cat((sig, padding_tensor), dim=0)\n",
    "\n",
    "                    # save the spectrogram to the output directory\n",
    "                    output_file = os.path.join(output_dir, filename[:-4] + '.pt')\n",
    "                    torch.save(sig, output_file)\n",
    "            except:\n",
    "                continue\n",
    "            "
   ]
  },
  {
   "cell_type": "code",
   "execution_count": 1,
   "metadata": {},
   "outputs": [],
   "source": [
    "import torch\n",
    "sp = torch.load('./fma/data/waveforms/052000.pt')"
   ]
  },
  {
   "cell_type": "code",
   "execution_count": 4,
   "metadata": {},
   "outputs": [
    {
     "data": {
      "text/plain": [
       "[<matplotlib.lines.Line2D at 0x7fb9fad45a30>]"
      ]
     },
     "execution_count": 4,
     "metadata": {},
     "output_type": "execute_result"
    },
    {
     "data": {
      "image/png": "[encoded data removed]",
      "text/plain": [
       "<Figure size 432x288 with 1 Axes>"
      ]
     },
     "metadata": {
      "needs_background": "light"
     },
     "output_type": "display_data"
    }
   ],
   "source": [
    "from matplotlib import pyplot as plt\n",
    "plt.plot(sp[:110000])"
   ]
  },
  {
   "cell_type": "code",
   "execution_count": null,
   "metadata": {},
   "outputs": [],
   "source": []
  }
 ],
 "metadata": {
  "kernelspec": {
   "display_name": "unipd",
   "language": "python",
   "name": "unipd"
  },
  "language_info": {
   "codemirror_mode": {
    "name": "ipython",
    "version": 3
   },
   "file_extension": ".py",
   "mimetype": "text/x-python",
   "name": "python",
   "nbconvert_exporter": "python",
   "pygments_lexer": "ipython3",
   "version": "3.9.11"
  }
 },
 "nbformat": 4,
 "nbformat_minor": 2
}

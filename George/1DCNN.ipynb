{
 "cells": [
  {
   "cell_type": "code",
   "execution_count": 1,
   "metadata": {},
   "outputs": [
    {
     "name": "stderr",
     "output_type": "stream",
     "text": [
      "/home/prody/anaconda3/envs/unipd/lib/python3.9/site-packages/tqdm/auto.py:22: TqdmWarning: IProgress not found. Please update jupyter and ipywidgets. See https://ipywidgets.readthedocs.io/en/stable/user_install.html\n",
      "  from .autonotebook import tqdm as notebook_tqdm\n"
     ]
    }
   ],
   "source": [
    "import os\n",
    "# from tqdm import tqdm\n",
    "import torch\n",
    "import torchaudio\n",
    "import torch.nn as nn\n",
    "import torch.nn.functional as F  \n",
    "from torch.utils.data import Dataset, DataLoader\n",
    "import numpy as np\n",
    "import pandas as pd"
   ]
  },
  {
   "cell_type": "code",
   "execution_count": 2,
   "metadata": {
    "collapsed": true
   },
   "outputs": [],
   "source": [
    "from sklearn.preprocessing import MultiLabelBinarizer, LabelEncoder, LabelBinarizer, StandardScaler"
   ]
  },
  {
   "cell_type": "code",
   "execution_count": 3,
   "metadata": {
    "collapsed": true
   },
   "outputs": [],
   "source": [
    "import utils"
   ]
  },
  {
   "cell_type": "code",
   "execution_count": 4,
   "metadata": {
    "scrolled": true
   },
   "outputs": [
    {
     "name": "stderr",
     "output_type": "stream",
     "text": [
      "/home/prody/anaconda3/envs/unipd/lib/python3.9/site-packages/torch/cuda/__init__.py:88: UserWarning: CUDA initialization: CUDA unknown error - this may be due to an incorrectly set up environment, e.g. changing env variable CUDA_VISIBLE_DEVICES after program start. Setting the available devices to be zero. (Triggered internally at /opt/conda/conda-bld/pytorch_1666642975993/work/c10/cuda/CUDAFunctions.cpp:109.)\n",
      "  return torch._C._cuda_getDeviceCount() > 0\n"
     ]
    }
   ],
   "source": [
    "# define device\n",
    "device = torch.device(\"cuda\" if torch.cuda.is_available() else \"cpu\")"
   ]
  },
  {
   "cell_type": "code",
   "execution_count": 5,
   "metadata": {},
   "outputs": [
    {
     "name": "stdout",
     "output_type": "stream",
     "text": [
      "False\n"
     ]
    }
   ],
   "source": [
    "print(torch.cuda.is_available())"
   ]
  },
  {
   "cell_type": "code",
   "execution_count": 6,
   "metadata": {
    "scrolled": true
   },
   "outputs": [
    {
     "name": "stdout",
     "output_type": "stream",
     "text": [
      "Not enough Echonest features: (13129, 767)\n"
     ]
    }
   ],
   "source": [
    "DATA_DIR = './fma/data/fma_small'\n",
    "\n",
    "tracks = utils.load('fma/data/fma_metadata/tracks.csv')\n",
    "features = utils.load('fma/data/fma_metadata/features.csv')\n",
    "echonest = utils.load('fma/data/fma_metadata/echonest.csv')\n",
    "\n",
    "subset = tracks.index[tracks['set', 'subset'] <= 'small']\n",
    "\n",
    "assert subset.isin(tracks.index).all()\n",
    "assert subset.isin(features.index).all()\n",
    "\n",
    "features_all = features.join(echonest, how='inner').sort_index(axis=1)\n",
    "print('Not enough Echonest features: {}'.format(features_all.shape))\n",
    "\n",
    "tracks = tracks.loc[subset]\n",
    "features_all = features.loc[subset]\n",
    "\n",
    "tracks.shape, features_all.shape\n",
    "\n",
    "train = tracks.index[tracks['set', 'split'] == 'training']\n",
    "val = tracks.index[tracks['set', 'split'] == 'validation']\n",
    "test = tracks.index[tracks['set', 'split'] == 'test']"
   ]
  },
  {
   "cell_type": "code",
   "execution_count": 7,
   "metadata": {
    "collapsed": true
   },
   "outputs": [],
   "source": [
    "labels_onehot = LabelBinarizer().fit_transform(tracks['track', 'genre_top'])\n",
    "labels_onehot = pd.DataFrame(labels_onehot, index=tracks.index)"
   ]
  },
  {
   "cell_type": "code",
   "execution_count": 8,
   "metadata": {
    "collapsed": true
   },
   "outputs": [],
   "source": [
    "def mono_to_stereo(waveform):\n",
    "    # reshape the waveform from a 1D tensor to a 2D tensor with 2 columns\n",
    "    waveform = waveform.view(-1, 1)\n",
    "    # repeat the waveform along the columns to create a stereo signal\n",
    "    waveform = waveform.repeat(1, 2)\n",
    "    return waveform.T\n",
    "\n",
    "def stereo_to_mono(waveform):\n",
    "    if waveform.dim() == 2:\n",
    "        return torch.mean(waveform, dim=0)\n",
    "    elif waveform.dim() == 1:\n",
    "        return waveform\n",
    "    else:\n",
    "        raise ValueError(\"Input must be 1D or 2D tensor\")"
   ]
  },
  {
   "cell_type": "code",
   "execution_count": 9,
   "metadata": {},
   "outputs": [
    {
     "data": {
      "text/plain": [
       "1600.0"
      ]
     },
     "execution_count": 9,
     "metadata": {},
     "output_type": "execute_result"
    }
   ],
   "source": [
    "len(train)/4"
   ]
  },
  {
   "cell_type": "code",
   "execution_count": 10,
   "metadata": {
    "collapsed": true
   },
   "outputs": [],
   "source": [
    "\n",
    "class FMADataset(Dataset):\n",
    "    def __init__(self, data_dir, track_ids, subsampling=True, sampling_rate=22050):\n",
    "        self.data_dir = data_dir\n",
    "        self.track_ids = track_ids\n",
    "        self.sampling_rate = sampling_rate\n",
    "        self.max_length = 750000\n",
    "        self.subsampling = subsampling\n",
    "\n",
    "        # create the Resample transform\n",
    "        self.resample = torchaudio.transforms.Resample(44100, sampling_rate)\n",
    "        \n",
    "        \n",
    "    def __getitem__(self, index):\n",
    "        tid = self.track_ids[index]\n",
    "        # load the MP3 file\n",
    "        filepath = utils.get_audio_path(self.data_dir, tid)\n",
    "        \n",
    "        try:\n",
    "            waveform, sample_rate = torchaudio.load(filepath)\n",
    "        except RuntimeError:\n",
    "            return self.__getitem__(index + 1)\n",
    "        \n",
    "        waveform = stereo_to_mono(waveform) \n",
    "\n",
    "        # resample the waveform to the desired sample rate using the Resample transform\n",
    "        waveform = self.resample(waveform)\n",
    "\n",
    "        \n",
    "        # get label\n",
    "        label = torch.from_numpy(labels_onehot.loc[tid].values).float()\n",
    "        \n",
    "        # subsampling\n",
    "        if self.subsampling:\n",
    "            # set the length of the subsamples and the overlap\n",
    "            subsample_length = self.sampling_rate * 5  # 5 seconds\n",
    "            overlap = int(subsample_length * 0.75)  # 75% overlap\n",
    "            subsamples = []\n",
    "            shift = subsample_length - overlap\n",
    "            for i in range(0, waveform.size(0) - subsample_length + 1, shift):\n",
    "                subsample = waveform[i:(i + subsample_length)]\n",
    "                subsamples.append(subsample)\n",
    "                if len(subsamples) == 20: break\n",
    "            \n",
    "            # ignore samples that have less than 30s (it should not be the case but there is a 15s sample in validation dataset we dont know why)\n",
    "            if len(subsamples) != 20: return self.__getitem__(index + 1)\n",
    "            \n",
    "            # return the subsamples\n",
    "            return subsamples, label\n",
    "        else:\n",
    "            # padding\n",
    "            padding = self.max_length - waveform.shape[0]\n",
    "            padding_tensor = torch.zeros((padding, waveform.shape[1]))\n",
    "            waveform = torch.cat((waveform, padding_tensor), dim=0)\n",
    "\n",
    "        \n",
    "        return waveform, label\n",
    "\n",
    "    def __len__(self):\n",
    "        return int(len(self.track_ids) / 4) # using ONLY 25% of the datset for faster training"
   ]
  },
  {
   "cell_type": "markdown",
   "metadata": {},
   "source": [
    "### TODO\n",
    "- modify __getitem__ method of FMADataset class for 2D CNN\n",
    "- implement validation"
   ]
  },
  {
   "cell_type": "code",
   "execution_count": 15,
   "metadata": {
    "collapsed": true
   },
   "outputs": [],
   "source": [
    "\n",
    "class Res1DLayer(nn.Module):\n",
    "    def __init__(self, in_channels, out_channels, kernel_size, stride, padding):\n",
    "        super(Res1DLayer, self).__init__()\n",
    "        self.conv1 = nn.Conv1d(in_channels, out_channels, kernel_size, stride, padding)\n",
    "        self.bn1 = nn.BatchNorm1d(out_channels)\n",
    "        self.conv2 = nn.Conv1d(out_channels, out_channels, kernel_size, stride, padding)\n",
    "        self.bn2 = nn.BatchNorm1d(out_channels)\n",
    "\n",
    "        # Projection shortcut\n",
    "        self.projection = nn.Conv1d(in_channels, out_channels, kernel_size=1, stride=stride, padding=0, bias=False)\n",
    "\n",
    "    def forward(self, x):\n",
    "        identity = x\n",
    "\n",
    "        out = self.conv1(x)\n",
    "        out = self.bn1(out)\n",
    "        out = F.leaky_relu(out)\n",
    "\n",
    "        out = self.conv2(out)\n",
    "        out = self.bn2(out)\n",
    "        \n",
    "        # Add the projection shortcut\n",
    "        identity = self.projection(identity)\n",
    "        out += identity\n",
    "\n",
    "        out = F.leaky_relu(out)\n",
    "\n",
    "        return out\n",
    "    \n",
    "    \n",
    "class ResNet1D(nn.Module):\n",
    "    def __init__(self, input_size, num_classes=10):\n",
    "        super(ResNet1D, self).__init__()\n",
    "        \n",
    "        self.conv1 = nn.Conv1d(in_channels=input_size, out_channels=128, kernel_size=3, stride=3, padding=3, bias=False)\n",
    "     \n",
    "        self.layer1 = nn.Sequential(\n",
    "            Res1DLayer(128, 128, kernel_size=3, stride=1, padding=1),\n",
    "            nn.MaxPool1d(kernel_size=3, stride=3, padding=1),\n",
    "            Res1DLayer(128, 128, kernel_size=3, stride=1, padding=1),\n",
    "            nn.MaxPool1d(kernel_size=3, stride=3, padding=1)\n",
    "        )\n",
    "        \n",
    "        self.layer2 = nn.Sequential(\n",
    "            Res1DLayer(128, 256, kernel_size=3, stride=1, padding=1),\n",
    "            nn.MaxPool1d(kernel_size=3, stride=3, padding=1),\n",
    "            Res1DLayer(256, 256, kernel_size=3, stride=1, padding=1),\n",
    "            nn.MaxPool1d(kernel_size=3, stride=3, padding=1)\n",
    "        )\n",
    "        \n",
    "        self.layer3 = nn.Sequential(\n",
    "            Res1DLayer(256, 256, kernel_size=3, stride=1, padding=1),\n",
    "            nn.MaxPool1d(kernel_size=3, stride=3, padding=1),\n",
    "            Res1DLayer(256, 256, kernel_size=3, stride=1, padding=1),\n",
    "            nn.MaxPool1d(kernel_size=3, stride=3, padding=1),\n",
    "            Res1DLayer(256, 256, kernel_size=3, stride=1, padding=1),\n",
    "            nn.MaxPool1d(kernel_size=3, stride=3, padding=1),\n",
    "            Res1DLayer(256, 256, kernel_size=3, stride=1, padding=1),\n",
    "            nn.MaxPool1d(kernel_size=3, stride=3, padding=1)\n",
    "        )\n",
    "        \n",
    "        self.layer4 = nn.Sequential(\n",
    "            Res1DLayer(256, 512, kernel_size=3, stride=1, padding=1),\n",
    "            nn.MaxPool1d(kernel_size=3, stride=3, padding=1),\n",
    "            nn.Conv1d(512, 512, kernel_size=1, stride=1, padding=0)\n",
    "        )\n",
    "        \n",
    "#         self.avgpool = nn.AdaptiveAvgPool1d(1)\n",
    "        # The output layer has ten units and a sigmoid activation function, followed by a dropout of 0.5\n",
    "        self.fc = nn.Linear(512, num_classes)\n",
    "        self.sigmoid = nn.Sigmoid()\n",
    "        self.dropout = nn.Dropout(p=0.5)\n",
    "\n",
    "    def forward(self, x):\n",
    "        x = self.conv1(x)\n",
    "        #x = self.bn1(x)\n",
    "        x = self.layer1(x)\n",
    "        x = self.layer2(x)\n",
    "        x = self.layer3(x)\n",
    "        x = self.layer4(x)\n",
    "        x = x.view(x.size(0), -1)  # flatten the tensor\n",
    "        #x = self.avgpool(x)\n",
    "        x = self.fc(x)\n",
    "        x = self.sigmoid(x)\n",
    "        x = self.dropout(x)\n",
    "        return x\n"
   ]
  },
  {
   "cell_type": "code",
   "execution_count": 16,
   "metadata": {
    "scrolled": false
   },
   "outputs": [
    {
     "name": "stdout",
     "output_type": "stream",
     "text": [
      "[1, 32000 subsamples] Training loss: 42.747\n",
      "Validation Loss: 42.6238 | Validation Accuracy: 0.1625 | Training Accuracy: 0.1843\n",
      "[2, 64000 subsamples] Training loss: 42.672\n",
      "Validation Loss: 43.1404 | Validation Accuracy: 0.1673 | Training Accuracy: 0.1846\n",
      "[3, 96000 subsamples] Training loss: 42.738\n",
      "Validation Loss: 42.9963 | Validation Accuracy: 0.1635 | Training Accuracy: 0.1842\n",
      "[4, 128000 subsamples] Training loss: 42.599\n",
      "Validation Loss: 43.1015 | Validation Accuracy: 0.1683 | Training Accuracy: 0.1844\n",
      "[5, 160000 subsamples] Training loss: 42.741\n",
      "Validation Loss: 43.0466 | Validation Accuracy: 0.1620 | Training Accuracy: 0.1841\n",
      "[6, 192000 subsamples] Training loss: 42.712\n",
      "Validation Loss: 42.5677 | Validation Accuracy: 0.1775 | Training Accuracy: 0.1850\n",
      "[7, 224000 subsamples] Training loss: 42.635\n",
      "Validation Loss: 42.9548 | Validation Accuracy: 0.1688 | Training Accuracy: 0.1871\n",
      "[8, 256000 subsamples] Training loss: 42.651\n",
      "Validation Loss: 43.0573 | Validation Accuracy: 0.1588 | Training Accuracy: 0.1855\n",
      "[9, 288000 subsamples] Training loss: 42.669\n",
      "Validation Loss: 43.1815 | Validation Accuracy: 0.1625 | Training Accuracy: 0.1851\n",
      "[10, 320000 subsamples] Training loss: 42.641\n",
      "Validation Loss: 43.2954 | Validation Accuracy: 0.1630 | Training Accuracy: 0.1874\n",
      "Finished Training\n"
     ]
    }
   ],
   "source": [
    "BATCH = 64\n",
    "\n",
    "# create a training dataset and dataloader\n",
    "dataset = FMADataset(DATA_DIR, train)\n",
    "dataloader = torch.utils.data.DataLoader(dataset, batch_size=BATCH, shuffle=True)\n",
    "\n",
    "# create a validation dataset and dataloader\n",
    "val_dataset = FMADataset(DATA_DIR, val)\n",
    "val_dataloader = torch.utils.data.DataLoader(val_dataset, batch_size=BATCH, shuffle=True)\n",
    "\n",
    "    \n",
    "# create the CNN model\n",
    "model = ResNet1D(input_size=110250, num_classes=8) # HERE YOU PUT UR NETWORK\n",
    "model.to(device)\n",
    "\n",
    "# define the loss function and the optimizer\n",
    "loss_fn = nn.CrossEntropyLoss()\n",
    "\n",
    "# Adam optimizer\n",
    "# optimizer = torch.optim.Adam(model.parameters())\n",
    "\n",
    "\n",
    "# Allamy 2021\n",
    "# Define the optimizer\n",
    "optimizer = torch.optim.SGD(model.parameters(), lr=0.01, momentum=0.9, nesterov=True)\n",
    "\n",
    "# Define the scheduler\n",
    "scheduler = torch.optim.lr_scheduler.ReduceLROnPlateau(optimizer, 'min', factor=0.2, patience=5)\n",
    "\n",
    "\n",
    "\n",
    "num_epochs = 10\n",
    "i = 0\n",
    "running_loss = 0.0\n",
    "\n",
    "\n",
    "    \n",
    "# train the model\n",
    "for epoch in range(num_epochs):\n",
    "    # evaluate the model on the training dataset\n",
    "    train_correct = 0\n",
    "    train_total = 0\n",
    "    for subsamples, label in dataloader:\n",
    "        label = label.to(device)\n",
    "        train_label = torch.argmax(label, dim=1)\n",
    "        for waveform in subsamples:\n",
    "            # clear the gradients\n",
    "            optimizer.zero_grad()\n",
    "\n",
    "            # forward pass\n",
    "            waveform = waveform.squeeze(0)  \n",
    "            waveform = waveform.unsqueeze(-1)\n",
    "            \n",
    "            waveform = waveform.to(device)\n",
    "            output = model(waveform)\n",
    "            \n",
    "            loss = loss_fn(output, label)\n",
    "\n",
    "            # backward pass\n",
    "            loss.backward()\n",
    "            optimizer.step()  \n",
    "            \n",
    "            # Update the learning rate\n",
    "            scheduler.step(loss)\n",
    "            \n",
    "            _, train_predicted = torch.max(output.data, 1)\n",
    "            train_total += train_label.size(0)\n",
    "            train_correct += (train_predicted == train_label).sum().item()\n",
    "            # print statistics\n",
    "            i += 1\n",
    "            running_loss += loss.item()\n",
    "            \n",
    "           \n",
    "    print('[%d, %5d subsamples] Training loss: %.3f' % (epoch + 1, i*BATCH, running_loss / len(dataloader)))\n",
    "    running_loss = 0            \n",
    "    # evaluate the model on the validation dataset\n",
    "    val_loss = 0.0\n",
    "    val_correct = 0\n",
    "    val_total = 0\n",
    "    with torch.no_grad():\n",
    "        for val_subsamples, val_label in val_dataloader:\n",
    "            val_label = val_label.to(device)\n",
    "            val_label = torch.argmax(val_label, dim=1)\n",
    "            for val_waveform in val_subsamples:\n",
    "                val_waveform = val_waveform.squeeze(0)\n",
    "                val_waveform = val_waveform.unsqueeze(-1)\n",
    "                val_waveform = val_waveform.to(device)\n",
    "                val_output = model(val_waveform)\n",
    "                val_loss += loss_fn(val_output, val_label).item()\n",
    "                _, val_predicted = torch.max(val_output.data, 1)\n",
    "                val_total += val_label.size(0)\n",
    "                val_correct += (val_predicted == val_label).sum().item()\n",
    "\n",
    "\n",
    "    print('Validation Loss: {:.4f} | Validation Accuracy: {:.4f} | Training Accuracy: {:.4f}'.format(val_loss / len(val_dataloader), val_correct / val_total, train_correct / train_total))\n",
    "print('Finished Training')"
   ]
  },
  {
   "cell_type": "code",
   "execution_count": null,
   "metadata": {
    "collapsed": true
   },
   "outputs": [],
   "source": []
  },
  {
   "cell_type": "code",
   "execution_count": null,
   "metadata": {
    "collapsed": true,
    "scrolled": false
   },
   "outputs": [],
   "source": [
    "\n",
    "# create a Mp3Dataset from a directory of MP3 files\n",
    "dataset = FMADataset(DATA_DIR, train)\n",
    "\n",
    "# create a DataLoader from the FMADataset\n",
    "dataloader = torch.utils.data.DataLoader(dataset, batch_size=8, shuffle=True)\n",
    "\n",
    "    \n",
    "# create the CNN model\n",
    "model = ResNet1D(input_size=750000, num_classes=8)\n",
    "\n",
    "# define the loss function and the optimizer\n",
    "loss_fn = nn.CrossEntropyLoss()\n",
    "optimizer = torch.optim.Adam(model.parameters())\n",
    "\n",
    "num_epochs = 10\n",
    "i = 0\n",
    "running_loss = 0.0\n",
    "# train the model\n",
    "for epoch in range(num_epochs):\n",
    "    for waveform, label in dataloader:\n",
    "        # clear the gradients\n",
    "        optimizer.zero_grad()\n",
    "\n",
    "        # forward pass\n",
    "#         waveform = waveform.unsqueeze(0)  # add a batch dimension\n",
    "#         print(waveform.shape)\n",
    "\n",
    "        # extract the first channel\n",
    "        first_channel = waveform[:, :, 0]\n",
    "\n",
    "        # reshape the first channel to add an additional dimension for the channel dimension\n",
    "        first_channel = first_channel.unsqueeze(-1)\n",
    "        \n",
    "        output = model(first_channel)\n",
    "\n",
    "        loss = loss_fn(output, label)\n",
    "\n",
    "        # backward pass\n",
    "        loss.backward()\n",
    "        optimizer.step()\n",
    "        # print statistics\n",
    "        i += 1\n",
    "        running_loss += loss.item()\n",
    "        if i % 10 == 9:    # print every 100 samples\n",
    "            print('[%d, %5d] loss: %.3f' %\n",
    "                  (epoch + 1, i + 1, running_loss / 2000))\n",
    "            running_loss = 0.0\n",
    "\n",
    "\n",
    "print('Finished Training')"
   ]
  },
  {
   "cell_type": "markdown",
   "metadata": {},
   "source": [
    "## Testing - subsampling"
   ]
  },
  {
   "cell_type": "code",
   "execution_count": null,
   "metadata": {},
   "outputs": [],
   "source": [
    "import os\n",
    "os.environ[\"CUDA_LAUNCH_BLOCKING\"] = \"1\"\n",
    "# create a dataset object for testing\n",
    "test_dataset = FMADataset(DATA_DIR, test)\n",
    "batch_size = 8\n",
    "# create a data loader to load the dataset\n",
    "test_loader = torch.utils.data.DataLoader(test_dataset, batch_size=batch_size, shuffle=True)\n",
    "\n",
    "\n",
    "\n",
    "# test the model\n",
    "model.eval()\n",
    "model.to(device)\n",
    "correct = 0\n",
    "total = 0\n",
    "with torch.no_grad(): # don't need to track, calculate or save the gradients in the model\n",
    "    for subsamples, labels in test_loader:\n",
    "        labels = labels.to(device)\n",
    "        labels = torch.argmax(labels, dim=1)\n",
    "        batch_size = labels.size(0) # we reupdate the batch size because the last batch can be incomplete.\n",
    "        subsample_outputs = {i: [] for i in range(batch_size)}\n",
    "        for waveform in subsamples:\n",
    "            waveform = waveform.squeeze(0)  \n",
    "            waveform = waveform.unsqueeze(-1)\n",
    "            waveform = waveform.to(device)\n",
    "            outputs = model(waveform)\n",
    "            predicted = torch.argmax(outputs.data, dim=1).cpu()\n",
    "            \n",
    "            for j in range(batch_size):\n",
    "                subsample_outputs[j].append(predicted[j]) \n",
    "        for j in range(batch_size):\n",
    "            # count the occurrences of each class\n",
    "            counts = np.bincount(subsample_outputs[j])\n",
    "            # Find the class with the highest count\n",
    "            aggregate_prediction = np.argmax(counts)\n",
    "            correct += (aggregate_prediction == labels[j])\n",
    "        total += labels.size(0)\n",
    "        \n",
    "    \n",
    "        print(f\"CORRECT #  {correct}\")\n",
    "\n",
    "print('Accuracy of the network on the test samples: %d %%' % (100 * correct / total))"
   ]
  },
  {
   "cell_type": "markdown",
   "metadata": {},
   "source": [
    "## Testing - full sample"
   ]
  },
  {
   "cell_type": "code",
   "execution_count": null,
   "metadata": {},
   "outputs": [],
   "source": [
    "# create a dataset object for testing\n",
    "test_dataset = FMADataset(DATA_DIR, test)\n",
    "\n",
    "# create a data loader to load the dataset\n",
    "test_loader = torch.utils.data.DataLoader(test_dataset, batch_size=32, shuffle=True)\n",
    "\n",
    "# test the model\n",
    "model.eval()\n",
    "model.to(device)\n",
    "correct = 0\n",
    "total = 0\n",
    "with torch.no_grad(): # don't need to track, calculate or save the gradients in the model\n",
    "    for data in test_loader:\n",
    "        # get the inputs\n",
    "        audio, labels = data\n",
    "        # wrap them in a torch Variable\n",
    "        audio, labels = audio.to(device), labels.to(device)\n",
    "\n",
    "        # forward + backward + optimize\n",
    "        outputs = model(audio)\n",
    "        _, predicted = torch.max(outputs.data, 1)\n",
    "        labels = torch.argmax(labels, dim=1)\n",
    "        predicted = torch.argmax(outputs.data, dim=1)\n",
    "        print(labels)\n",
    "        print(predicted)\n",
    "        total += labels.size(0)\n",
    "        correct += (predicted == labels).sum().item()\n",
    "        print(f\"CORRECT #  {correct}\")\n",
    "\n",
    "print('Accuracy of the network on the test samples: %d %%' % (100 * correct / total))"
   ]
  },
  {
   "cell_type": "markdown",
   "metadata": {},
   "source": [
    "## Remarks on implementations - draft\n",
    "\n",
    "### There are two types of samples: mono and stereo - we need to convert mono to stereo when feeding the CNN\n",
    "\n",
    "An audio channel refers to a single track of audio. The number of channels in an audio file determines the number of separate audio tracks that are mixed together to form the final audio.\n",
    "\n",
    "A mono audio file has a single channel, which means that all the audio is mixed together into one single track. This means that if you play a mono audio file, the same audio will come out of both the left and right speakers (or headphones) and it will sound the same regardless of the stereo or mono setup.\n",
    "\n",
    "A stereo audio file, on the other hand, has two channels - a left channel and a right channel. These two channels carry separate audio tracks that are mixed together to create the final audio. When played back on a stereo setup, each channel will be played through its corresponding speaker or headphone and this way, the stereo audio creates a sense of space and directionality.\n",
    "\n",
    "So, for example, a stereo audio recording of a live concert will have different audio captured by different microphone positioned in different positions in the concert hall, and when it is played back, it creates the sense of being there in the concert hall.\n",
    "\n",
    "It is worth noting that there are also audio file format with more than 2 channels, such as 5.1 or 7.1 surround sound audio.\n",
    "\n",
    "\n",
    "### Downsampling\n",
    "\n",
    " we downsample the audio signals to a lower sample rate to reduce the data size or to simplify the processing of the signal. Downsampling can be useful for tasks such as speech recognition or audio classification, where the lower frequencies of the signal are more important than the higher frequencies."
   ]
  }
 ],
 "metadata": {
  "kernelspec": {
   "display_name": "unipd",
   "language": "python",
   "name": "unipd"
  },
  "language_info": {
   "codemirror_mode": {
    "name": "ipython",
    "version": 3
   },
   "file_extension": ".py",
   "mimetype": "text/x-python",
   "name": "python",
   "nbconvert_exporter": "python",
   "pygments_lexer": "ipython3",
   "version": "3.9.11"
  }
 },
 "nbformat": 4,
 "nbformat_minor": 2
}

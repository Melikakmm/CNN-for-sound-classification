{
  "cells": [
    {
      "cell_type": "markdown",
      "metadata": {
        "id": "view-in-github",
        "colab_type": "text"
      },
      "source": [
        "<a href=\"https://colab.research.google.com/github/Melikakmm/CNN-for-sound-classification/blob/main/CNN-for-sound-classification/Melika/GTGT/VGG16_GTZAN.ipynb\" target=\"_parent\"><img src=\"https://colab.research.google.com/assets/colab-badge.svg\" alt=\"Open In Colab\"/></a>"
      ]
    },
    {
      "cell_type": "code",
      "source": [
        "from google.colab import drive\n",
        "drive.mount('/content/drive')"
      ],
      "metadata": {
        "colab": {
          "base_uri": "https://localhost:8080/"
        },
        "id": "Uc5P3oB3nPYW",
        "outputId": "0a783b84-2605-4cf2-ba75-e12c02f9077a"
      },
      "execution_count": 1,
      "outputs": [
        {
          "output_type": "stream",
          "name": "stdout",
          "text": [
            "Mounted at /content/drive\n"
          ]
        }
      ]
    },
    {
      "cell_type": "code",
      "source": [
        "!pip install torchaudio_augmentations "
      ],
      "metadata": {
        "id": "zOYWBK1npmQ1"
      },
      "execution_count": null,
      "outputs": []
    },
    {
      "cell_type": "code",
      "execution_count": 4,
      "metadata": {
        "id": "MSuQuNSym6_W"
      },
      "outputs": [],
      "source": [
        "from torch import nn\n",
        "import os\n",
        "import random\n",
        "import torch\n",
        "import numpy as np\n",
        "import soundfile as sf\n",
        "from torch.utils import data\n",
        "from torchaudio_augmentations import (\n",
        "    RandomResizedCrop,\n",
        "    RandomApply,\n",
        "    PolarityInversion,\n",
        "    Noise,\n",
        "    Gain,\n",
        "    HighLowPass,\n",
        "    Delay,\n",
        "    PitchShift,\n",
        "    Reverb,\n",
        "    Compose,\n",
        ")\n",
        "\n",
        "\n",
        "GTZAN_GENRES = ['blues', 'classical', 'country', 'disco', 'hiphop', 'jazz', 'metal', 'pop', 'reggae', 'rock']\n",
        "\n",
        "\n",
        "class GTZANDataset(data.Dataset):\n",
        "    def __init__(self, data_path, split, num_samples, num_chunks, is_augmentation):\n",
        "        self.data_path =  data_path if data_path else '/content/drive/MyDrive/Data/'\n",
        "        self.split = split\n",
        "        self.num_samples = num_samples\n",
        "        self.num_chunks = num_chunks\n",
        "        self.is_augmentation = is_augmentation\n",
        "        self.genres = GTZAN_GENRES\n",
        "        self._get_song_list()\n",
        "        if is_augmentation:\n",
        "            self._get_augmentations()\n",
        "\n",
        "    def _get_song_list(self):\n",
        "        list_filename = os.path.join(self.data_path, '%s_filtered.txt' % self.split)\n",
        "        with open(list_filename) as f:\n",
        "            lines = f.readlines()\n",
        "        self.song_list = [line.strip() for line in lines]\n",
        "\n",
        "    def _get_augmentations(self):\n",
        "        transforms = [\n",
        "            RandomResizedCrop(n_samples=self.num_samples),\n",
        "            RandomApply([PolarityInversion()], p=0.8),\n",
        "            RandomApply([Noise(min_snr=0.3, max_snr=0.5)], p=0.3),\n",
        "            RandomApply([Gain()], p=0.2),\n",
        "            RandomApply([HighLowPass(sample_rate=22050)], p=0.8),\n",
        "            RandomApply([Delay(sample_rate=22050)], p=0.5),\n",
        "            RandomApply([PitchShift(n_samples=self.num_samples, sample_rate=22050)], p=0.4),\n",
        "            RandomApply([Reverb(sample_rate=22050)], p=0.3),\n",
        "        ]\n",
        "        self.augmentation = Compose(transforms=transforms)\n",
        "\n",
        "    def _adjust_audio_length(self, wav):\n",
        "        if self.split == 'train':\n",
        "            random_index = random.randint(0, len(wav) - self.num_samples - 1)\n",
        "            wav = wav[random_index : random_index + self.num_samples]\n",
        "        else:\n",
        "            hop = (len(wav) - self.num_samples) // self.num_chunks\n",
        "            wav = np.array([wav[i * hop : i * hop + self.num_samples] for i in range(self.num_chunks)])\n",
        "        return wav\n",
        "\n",
        "    def __getitem__(self, index):\n",
        "        line = self.song_list[index]\n",
        "\n",
        "        # get genre\n",
        "        genre_name = line.split('/')[0]\n",
        "        genre_index = self.genres.index(genre_name)\n",
        "\n",
        "        # get audio\n",
        "        audio_filename = os.path.join(self.data_path, 'genres', line)\n",
        "        wav, fs = sf.read(audio_filename)\n",
        "\n",
        "        # adjust audio length\n",
        "        wav = self._adjust_audio_length(wav).astype('float32')\n",
        "\n",
        "        # data augmentation\n",
        "        if self.is_augmentation:\n",
        "            wav = self.augmentation(torch.from_numpy(wav).unsqueeze(0)).squeeze(0).numpy()\n",
        "\n",
        "        return wav, genre_index\n",
        "\n",
        "    def __len__(self):\n",
        "        return len(self.song_list)\n",
        "\n",
        "def get_dataloader(data_path=None, \n",
        "                   split='train', \n",
        "                   num_samples=22050 * 29, \n",
        "                   num_chunks=1, \n",
        "                   batch_size=16, \n",
        "                   num_workers=0, \n",
        "                   is_augmentation=False):\n",
        "    is_shuffle = True if (split == 'train') else False\n",
        "    batch_size = batch_size if (split == 'train') else (batch_size // num_chunks)\n",
        "    data_loader = data.DataLoader(dataset=GTZANDataset(data_path, \n",
        "                                                       split, \n",
        "                                                       num_samples, \n",
        "                                                       num_chunks, \n",
        "                                                       is_augmentation),\n",
        "                                  batch_size=batch_size,\n",
        "                                  shuffle=is_shuffle,\n",
        "                                  drop_last=False,\n",
        "                                  num_workers=num_workers)\n",
        "    return data_loader\n"
      ]
    },
    {
      "cell_type": "code",
      "execution_count": 5,
      "metadata": {
        "colab": {
          "base_uri": "https://localhost:8080/"
        },
        "id": "PhKtLo53m6_a",
        "outputId": "365fd920-4a01-41d1-e180-10fbfe1c8508"
      },
      "outputs": [
        {
          "output_type": "stream",
          "name": "stdout",
          "text": [
            "training data shape: torch.Size([16, 639450])\n",
            "validation/test data shape: torch.Size([16, 1, 639450])\n",
            "tensor([0, 9, 0, 6, 7, 7, 3, 8, 2, 1, 3, 3, 7, 9, 6, 2])\n"
          ]
        }
      ],
      "source": [
        "train_loader = get_dataloader(split='train', is_augmentation=True)\n",
        "iter_train_loader = iter(train_loader)\n",
        "train_wav, train_genre = next(iter_train_loader)\n",
        "\n",
        "valid_loader = get_dataloader(split='valid')\n",
        "test_loader = get_dataloader(split='test')\n",
        "iter_test_loader = iter(test_loader)\n",
        "test_wav, test_genre = next(iter_test_loader)\n",
        "print('training data shape: %s' % str(train_wav.shape))\n",
        "print('validation/test data shape: %s' % str(test_wav.shape))\n",
        "print(train_genre)"
      ]
    },
    {
      "cell_type": "code",
      "execution_count": 6,
      "metadata": {
        "scrolled": true,
        "id": "yNYLPnm5m6_b"
      },
      "outputs": [],
      "source": [
        "\n",
        "\n",
        "class Conv_2d(nn.Module):\n",
        "    def __init__(self, input_channels, output_channels, shape=3, pooling=2, dropout=0.1):\n",
        "        super(Conv_2d, self).__init__()\n",
        "        self.conv1 = nn.Conv2d(input_channels, output_channels, kernel_size=(3, 3), stride=(1, 1), padding=(1, 1))\n",
        "        self.relu1 = nn.ReLU(inplace=True)\n",
        "        self.conv2 = nn.Conv2d(output_channels, output_channels, kernel_size=(3, 3), stride=(1, 1), padding=(1, 1))\n",
        "        self.relu2 = nn.ReLU(inplace=True)\n",
        "        self.conv3 = nn.Conv2d(output_channels, output_channels, kernel_size=(3, 3), stride=(1, 1), padding=(1, 1))\n",
        "        self.relu3 = nn.ReLU(inplace=True)\n",
        "        self.maxpool = nn.MaxPool2d(kernel_size=2, stride=2, padding=0, dilation=1, ceil_mode=False)\n",
        "        self.dropout = nn.Dropout(dropout)\n",
        "        \n",
        "    def forward(self, wav):\n",
        "        out = self.conv1(wav)\n",
        "        out = self.relu1(out)\n",
        "        out = self.conv2(out)\n",
        "        out = self.relu2(out)\n",
        "        out = self.conv3(out)\n",
        "        out = self.relu3(out)\n",
        "        out = self.maxpool(out)\n",
        "        out = self.dropout(out)\n",
        "        return out"
      ]
    },
    {
      "cell_type": "code",
      "execution_count": 7,
      "metadata": {
        "id": "xx9jJz_Vm6_c"
      },
      "outputs": [],
      "source": [
        "import torchaudio\n",
        "\n",
        "\n",
        "class CNN(nn.Module):\n",
        "    def __init__(self, num_channels=256, \n",
        "                       sample_rate=22050, \n",
        "                       n_fft=1024, \n",
        "                       f_min=0.0, \n",
        "                       f_max=11025.0, \n",
        "                       num_mels=128, \n",
        "                       num_classes=10):\n",
        "        super(CNN, self).__init__()\n",
        "\n",
        "        # mel spectrogram\n",
        "        self.melspec = torchaudio.transforms.MelSpectrogram(sample_rate=sample_rate, \n",
        "                                                            n_fft=n_fft, \n",
        "                                                            f_min=f_min, \n",
        "                                                            f_max=f_max, \n",
        "                                                            n_mels=num_mels)\n",
        "        self.amplitude_to_db = torchaudio.transforms.AmplitudeToDB()\n",
        "        self.input_bn = nn.BatchNorm2d(1)\n",
        "\n",
        "        # convolutional layers\n",
        "        self.cv1 = nn.Conv2d(1, 64, kernel_size=(3, 3), stride=(1, 1), padding=(1, 1))\n",
        "        self.r1 = nn.ReLU(inplace=True)\n",
        "        self.cv2 = nn.Conv2d(64, 64, kernel_size=(3, 3), stride=(1, 1), padding=(1, 1))\n",
        "        self.r2 = nn.ReLU(inplace=True)\n",
        "        self.m2 = nn.MaxPool2d(kernel_size=2, stride=2, padding=0, dilation=1, ceil_mode=False)\n",
        "        self.cv3 = nn.Conv2d(64, 128, kernel_size=(3, 3), stride=(1, 1), padding=(1, 1))\n",
        "        self.r3 = nn.ReLU(inplace=True)\n",
        "        self.cv4 = nn.Conv2d(128, 128, kernel_size=(3, 3), stride=(1, 1), padding=(1, 1))\n",
        "        self.r4 = nn.ReLU(inplace=True)\n",
        "        self.m4 = nn.MaxPool2d(kernel_size=2, stride=2, padding=0, dilation=1, ceil_mode=False)\n",
        "        \n",
        "        \n",
        "        \n",
        "        \n",
        "        self.layer1 = Conv_2d(128, num_channels, pooling=(2, 3))\n",
        "        self.layer2 = Conv_2d(num_channels, num_channels*2, pooling=(3, 4))\n",
        "        self.layer3 = Conv_2d(num_channels*2, num_channels * 2, pooling=(2, 5))\n",
        "    \n",
        "        \n",
        "        self.Avg = nn.AdaptiveAvgPool2d(output_size=(7, 7))\n",
        "\n",
        "        # dense layers\n",
        "        self.dense1 = nn.Linear(25088, num_channels * 4)\n",
        "        self.dense_bn = nn.BatchNorm1d(num_channels * 4)\n",
        "        self.dense2 = nn.Linear(num_channels * 4, num_classes)\n",
        "        self.dropout = nn.Dropout(0.5)\n",
        "        self.relu = nn.ReLU(inplace=True)\n",
        "\n",
        "    def forward(self, wav):\n",
        "        # input Preprocessing\n",
        "        out = self.melspec(wav)\n",
        "        out = self.amplitude_to_db(out)\n",
        "\n",
        "        # input batch normalization\n",
        "        out = out.unsqueeze(1)\n",
        "        out = self.input_bn(out)\n",
        "\n",
        "        # convolutional layers\n",
        "        out = self.cv1(out)\n",
        "        out = self.r1(out)\n",
        "        out = self.cv2(out)\n",
        "        out = self.r2(out)\n",
        "        out = self.m2(out)\n",
        "        out = self.cv3(out)\n",
        "        out = self.r3(out)\n",
        "        out = self.cv4(out)\n",
        "        out = self.r4(out)\n",
        "        out = self.m4(out)\n",
        "        \n",
        "        out = self.layer1(out)\n",
        "        out = self.layer2(out)\n",
        "        out = self.layer3(out)\n",
        "\n",
        "        \n",
        "        \n",
        "        out = self.Avg(out)\n",
        "    \n",
        "        \n",
        "        # reshape. (batch_size, num_channels, 1, 1) -> (batch_size, num_channels)\n",
        "        out = out.reshape(len(out), -1)\n",
        "\n",
        "        # dense layers\n",
        "        out = self.dense1(out)\n",
        "        out = self.dense_bn(out)\n",
        "        out = self.relu(out)\n",
        "        out = self.dropout(out)\n",
        "        out = self.dense2(out)\n",
        "\n",
        "        return out"
      ]
    },
    {
      "cell_type": "code",
      "execution_count": null,
      "metadata": {
        "id": "iz-NLAanm6_c"
      },
      "outputs": [],
      "source": [
        "from sklearn.metrics import accuracy_score, confusion_matrix\n",
        "\n",
        "\n",
        "#device = torch.device('cuda:0' if torch.cuda.is_available() else 'cpu')\n",
        "cnn = CNN()\n",
        "loss_function = nn.CrossEntropyLoss()\n",
        "optimizer = torch.optim.Adam(cnn.parameters(), lr=1)\n",
        "valid_losses = []\n",
        "num_epochs = 5\n",
        "\n",
        "for epoch in range(num_epochs):\n",
        "    losses = []\n",
        "\n",
        "    # Train\n",
        "    cnn.train()\n",
        "    for (wav, genre_index) in train_loader:\n",
        "        #wav = wav.to(device)\n",
        "        #genre_index = genre_index.to(device)\n",
        "        genre_index = genre_index\n",
        "\n",
        "        # Forward\n",
        "        out = cnn(wav)\n",
        "        loss = loss_function(out, genre_index)\n",
        "\n",
        "        # Backward\n",
        "        optimizer.zero_grad()\n",
        "        loss.backward()\n",
        "        optimizer.step()\n",
        "        losses.append(loss.item())\n",
        "    print('Epoch: [%d/%d], Train loss: %.4f' % (epoch+1, num_epochs, np.mean(losses)))\n",
        "\n",
        "    # Validation\n",
        "    cnn.eval()\n",
        "    y_true = []\n",
        "    y_pred = []\n",
        "    losses = []\n",
        "    for wav, genre_index in valid_loader:\n",
        "        #wav = wav.to(device)\n",
        "        wav = wav\n",
        "        genre_index = genre_index\n",
        "        #genre_index = genre_index.to(device)\n",
        "\n",
        "        # reshape and aggregate chunk-level predictions\n",
        "        b, c, t = wav.size()\n",
        "        logits = cnn(wav.view(-1, t))\n",
        "        logits = logits.view(b, c, -1).mean(dim=1)\n",
        "        loss = loss_function(logits, genre_index)\n",
        "        losses.append(loss.item())\n",
        "        _, pred = torch.max(logits.data, 1)\n",
        "\n",
        "        # append labels and predictions\n",
        "        y_true.extend(genre_index.tolist())\n",
        "        y_pred.extend(pred.tolist())\n",
        "    accuracy = accuracy_score(y_true, y_pred)\n",
        "    valid_loss = np.mean(losses)\n",
        "    print('Epoch: [%d/%d], Valid loss: %.4f, Valid accuracy: %.4f' % (epoch+1, num_epochs, valid_loss, accuracy))\n",
        "\n",
        "    # Save model\n",
        "    valid_losses.append(valid_loss.item())\n",
        "    if np.argmin(valid_losses) == epoch:\n",
        "        print('Saving the best model at %d epochs!' % epoch)\n",
        "        torch.save(cnn.state_dict(), 'best_model.ckpt')"
      ]
    },
    {
      "cell_type": "code",
      "execution_count": null,
      "metadata": {
        "id": "Gc4ty29Dm6_e"
      },
      "outputs": [],
      "source": [
        "import seaborn as sns\n",
        "from sklearn.metrics import confusion_matrix\n",
        "\n",
        "\n",
        "accuracy = accuracy_score(y_true, y_pred)\n",
        "cm = confusion_matrix(y_true, y_pred)\n",
        "sns.heatmap(cm, annot=True, xticklabels=GTZAN_GENRES, yticklabels=GTZAN_GENRES, cmap='YlGnBu')\n",
        "print('Accuracy: %.4f' % accuracy)"
      ]
    },
    {
      "cell_type": "code",
      "execution_count": null,
      "metadata": {
        "id": "Mx8W44jVm6_e"
      },
      "outputs": [],
      "source": [
        "\n",
        "print(\"Model's state_dict:\")\n",
        "for param_tensor in cnn.state_dict():\n",
        "    print(param_tensor, \"\\t\", cnn.state_dict()[param_tensor].size())\n",
        "\n",
        "# Print optimizer's state_dict\n",
        "print(\"Optimizer's state_dict:\")\n",
        "for var_name in optimizer.state_dict():\n",
        "    print(var_name, \"\\t\", optimizer.state_dict()[var_name])"
      ]
    },
    {
      "cell_type": "code",
      "execution_count": null,
      "metadata": {
        "id": "rqNBfj-Um6_e"
      },
      "outputs": [],
      "source": [
        "PATH = ''\n",
        "\n",
        "model_scripted = torch.jit.script(cnn) # Export to TorchScript\n",
        "model_scripted.save('~/desktop/model_scripted.pt') # Save\n",
        "\n",
        "\n",
        "\n"
      ]
    },
    {
      "cell_type": "code",
      "execution_count": null,
      "metadata": {
        "id": "bHQwvCuCm6_f"
      },
      "outputs": [],
      "source": [
        "cc = torch.jit.load('~/desktop/model_scripted.pt')"
      ]
    }
  ],
  "metadata": {
    "celltoolbar": "Tags",
    "interpreter": {
      "hash": "d07f8a6d01a647f8c201632839541ae5d3157a119d69afa1c4342c330b00f4fd"
    },
    "kernelspec": {
      "display_name": "Python [conda env:fma2]",
      "language": "python",
      "name": "conda-env-fma2-py"
    },
    "language_info": {
      "codemirror_mode": {
        "name": "ipython",
        "version": 3
      },
      "file_extension": ".py",
      "mimetype": "text/x-python",
      "name": "python",
      "nbconvert_exporter": "python",
      "pygments_lexer": "ipython3",
      "version": "3.9.16"
    },
    "colab": {
      "provenance": [],
      "include_colab_link": true
    }
  },
  "nbformat": 4,
  "nbformat_minor": 0
}
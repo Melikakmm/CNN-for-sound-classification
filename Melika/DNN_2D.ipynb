{
 "cells": [
  {
   "cell_type": "code",
   "execution_count": 1,
   "metadata": {
    "scrolled": true
   },
   "outputs": [],
   "source": [
    "import os\n",
    "# from tqdm import tqdm\n",
    "import torch\n",
    "import torchaudio\n",
    "import torch.nn as nn\n",
    "import torch.nn.functional as F  \n",
    "from torch.utils.data import Dataset, DataLoader\n",
    "import numpy as np\n",
    "import pandas as pd\n",
    "import copy\n",
    "from torchsummary import summary"
   ]
  },
  {
   "cell_type": "code",
   "execution_count": 2,
   "metadata": {},
   "outputs": [],
   "source": [
    "from sklearn.preprocessing import MultiLabelBinarizer, LabelEncoder, LabelBinarizer, StandardScaler"
   ]
  },
  {
   "cell_type": "code",
   "execution_count": 3,
   "metadata": {},
   "outputs": [],
   "source": [
    "import utils"
   ]
  },
  {
   "cell_type": "code",
   "execution_count": 4,
   "metadata": {},
   "outputs": [],
   "source": [
    "# define device\n",
    "device = torch.device(\"cuda\" if torch.cuda.is_available() else \"cpu\")"
   ]
  },
  {
   "cell_type": "code",
   "execution_count": 33,
   "metadata": {
    "scrolled": true
   },
   "outputs": [
    {
     "name": "stdout",
     "output_type": "stream",
     "text": [
      "Not enough Echonest features: (13129, 767)\n"
     ]
    }
   ],
   "source": [
    "DATA_DIR = '/Users/melikakeshavarz/desktop/new/data/fma_small'\n",
    "\n",
    "tracks = utils.load('/Users/melikakeshavarz/desktop/new/data/fma_metadata/tracks.csv')\n",
    "features = utils.load('/Users/melikakeshavarz/desktop/new/data/fma_metadata/features.csv')#annotation files\n",
    "echonest = utils.load('/Users/melikakeshavarz/desktop/new/data/fma_metadata/echonest.csv')\n",
    "\n",
    "subset = tracks.index[tracks['set', 'subset'] <= 'small']\n",
    "\n",
    "assert subset.isin(tracks.index).all()\n",
    "assert subset.isin(features.index).all()\n",
    "\n",
    "features_all = features.join(echonest, how='inner').sort_index(axis=1)\n",
    "print('Not enough Echonest features: {}'.format(features_all.shape))\n",
    "\n",
    "tracks = tracks.loc[subset]\n",
    "features_all = features.loc[subset]\n",
    "\n",
    "tracks.shape, features_all.shape\n",
    "\n",
    "train = tracks.index[tracks['set', 'split'] == 'training'] #bunch of indexes (not ids) for training val and test\n",
    "val = tracks.index[tracks['set', 'split'] == 'validation']\n",
    "test = tracks.index[tracks['set', 'split'] == 'test']"
   ]
  },
  {
   "cell_type": "code",
   "execution_count": 38,
   "metadata": {
    "scrolled": false
   },
   "outputs": [],
   "source": [
    "#pause\n",
    "labels_onehot = LabelBinarizer().fit_transform(tracks['track', 'genre_top'])\n",
    "labels_onehot = pd.DataFrame(labels_onehot, index=tracks.index)\n"
   ]
  },
  {
   "cell_type": "code",
   "execution_count": 84,
   "metadata": {},
   "outputs": [],
   "source": [
    "#Meeeeeeeeeee\n",
    "\n",
    "#custome dataset class\n",
    "\n",
    "\n",
    "\n",
    "from torch.utils.data import Dataset, DataLoader\n",
    "\n",
    "\n",
    "\n",
    "class FMA(Dataset):\n",
    "    def __init__(self, data_dir, track_ids, target_sample_rate, transformation, num_samples, device , twoD = False):\n",
    "        self.data_dir = data_dir\n",
    "        self.track_ids = track_ids\n",
    "        self.filenames = os.listdir(data_dir)\n",
    "        self.target_sample_rate = target_sample_rate\n",
    "        self.device = device\n",
    "        self.transformation = transformation.to(self.device)\n",
    "        self.twoD = twoD\n",
    "        self.num_samples = num_samples\n",
    "        \n",
    "        \n",
    "\n",
    "    def __getitem__(self, index):\n",
    "        tid = self.track_ids[index]\n",
    "        filepath = utils.get_audio_path(self.data_dir, tid)\n",
    "        label = torch.from_numpy(labels_onehot.loc[tid].values).float()\n",
    "        waveform, sr = torchaudio.load(filepath)#be careful all of the sample rates aren't the same(resample)\n",
    "        #waveform --> (2, 10000) #(number of channels, number of samples)\n",
    "        waveform = waveform.to(self.device)\n",
    "        waveform = self._resample_if_necessary(waveform, sr)\n",
    "        waveform = self._mix_down_if_necessary(waveform)\n",
    "        #we have to adjust the length of the audio waveforms before the transformation\n",
    "        waveform = self._cut_if_necessary(waveform)\n",
    "        waveform = self._right_pad_if_necessary(waveform)\n",
    "        if self.twoD == True:\n",
    "            waveform = self.transformation(waveform)\n",
    "        else:\n",
    "            pass\n",
    "        return waveform, label\n",
    "    \n",
    "    \n",
    "    def _cut_if_necessary(self, waveform):\n",
    "        #this method happens before the transformation\n",
    "        if waveform.shape[1] > self.num_samples:\n",
    "            waveform = waveform[:, :self.num_samples]\n",
    "            return waveform\n",
    "        \n",
    "        \n",
    "    def _right_pad_if_necessary(self, waveform):\n",
    "        if waveform.shape[1] < self.num_samples:\n",
    "            num_missing_samples = self.num_samples - waveform.shape[1]\n",
    "            last_dim_padding = (0,num_missing_samples) # (1, 2) -> (left, right)   \n",
    "            #(1, 2, 0, 1) -> (left, right, padnumleft, padnumright)\n",
    "            # what happens is : [1, 1, 1] --> [0, 1, 1, 1, 0, 0]\n",
    "            waveform = torch.nn.functional.pad(waveform, last_dim_padding)\n",
    "            waveform = waveform.T\n",
    "        return waveform\n",
    "    \n",
    "    \n",
    "        \n",
    "    def _resample_if_necessary(self, waveform , sr):\n",
    "        if sr != self.target_sample_rate:\n",
    "            resampler = torchaudio.transforms.Resample(sr, self.target_sample_rate)\n",
    "            waveform = resampler(waveform)\n",
    "        return waveform\n",
    "    \n",
    "    \n",
    "    #from (2, 10000) to (1, 0000) taking the average between two waveforms\n",
    "    def _mix_down_if_necessary(self, waveform):\n",
    "        if waveform.shape[0] > 1:\n",
    "            waveform = torch.mean(waveform , dim = 0, keepdim = True)\n",
    "        return waveform\n",
    "        \n",
    "    \n",
    "        return waveform.T, label \n",
    "    \n",
    "    def __len__(self):#just gives us the number of samples in our datasets.\n",
    "        return len(self.filenames) \n",
    "\n",
    "        \n",
    "\n",
    "        "
   ]
  },
  {
   "cell_type": "code",
   "execution_count": 88,
   "metadata": {},
   "outputs": [
    {
     "name": "stdout",
     "output_type": "stream",
     "text": [
      "we are using cpu.\n"
     ]
    }
   ],
   "source": [
    "#trying the class:\n",
    "\n",
    "if __name__ == \"__main__\":\n",
    "    \n",
    "\n",
    "    SAMPLE_RATE=22050\n",
    "    NUM_SAMPLES = 22050\n",
    "    #working on GPU\n",
    "    if torch.cuda.is_available():\n",
    "        Device = \"cuda\"\n",
    "    else:\n",
    "        Device = \"cpu\"\n",
    "        \n",
    "    print(f\"we are using {device}.\")  \n",
    "    \n",
    "    \n",
    "    mel_spectrogram = torchaudio.transforms.MelSpectrogram(sample_rate = SAMPLE_RATE, n_fft = 1024, hop_length = 512,\n",
    "                                                        n_mels = 64) \n",
    "    \n",
    "    FL = FMA(DATA_DIR, train, SAMPLE_RATE, mel_spectrogram, NUM_SAMPLES, Device, twoD =True)\n",
    "    #print(f\"there are {len(FL)} samples in the dataset\" )\n",
    "    waveform, label = FL[0] #track number 2\n",
    "    a = 1\n",
    "    \n",
    "    \n"
   ]
  },
  {
   "cell_type": "code",
   "execution_count": 89,
   "metadata": {},
   "outputs": [
    {
     "data": {
      "text/plain": [
       "torch.Size([1, 64, 44])"
      ]
     },
     "execution_count": 89,
     "metadata": {},
     "output_type": "execute_result"
    }
   ],
   "source": [
    "# If melspectrogram is applied\n",
    "\n",
    "waveform.shape"
   ]
  },
  {
   "cell_type": "code",
   "execution_count": 91,
   "metadata": {},
   "outputs": [],
   "source": [
    "####### very bad 2D architecture :))))))) just a test\n",
    "from torch import nn\n",
    "\n",
    "class CNN2D(nn.Module):\n",
    "    \n",
    "    \n",
    "    def __init__(self):\n",
    "        #vgg\n",
    "        super().__init__()\n",
    "        #4 conv blocks / flatten / linear / softmax\n",
    "        self.conv1 = nn.Sequential(nn.Conv2d(in_channels =1, out_channels =16, kernel_size =3, stride =1, padding =2),\n",
    "                                  nn.ReLU(),\n",
    "                                  nn.MaxPool2d(kernel_size = 2))\n",
    "        \n",
    "        \n",
    "        \n",
    "        \n",
    "        self.conv2 = nn.Sequential(nn.Conv2d(in_channels =16, out_channels =32, kernel_size =3, stride =1, padding =2),\n",
    "                                  nn.ReLU(),\n",
    "                                  nn.MaxPool2d(kernel_size = 2))\n",
    "        \n",
    "        \n",
    "        \n",
    "        self.conv3 = nn.Sequential(nn.Conv2d(in_channels =32, out_channels =64, kernel_size =3, stride =1, padding =2),\n",
    "                                  nn.ReLU(),\n",
    "                                  nn.MaxPool2d(kernel_size = 2))\n",
    "        \n",
    "        \n",
    "        \n",
    "        self.conv4 = nn.Sequential(nn.Conv2d(in_channels =64, out_channels =128, kernel_size =3, stride =1, padding =2),\n",
    "                                  nn.ReLU(),\n",
    "                                  nn.MaxPool2d(kernel_size = 2))\n",
    "        \n",
    "        \n",
    "\n",
    "        \n",
    "        self.flatten = nn.Flatten()\n",
    "        self.linear = nn.Linear(128*5*4, 8)\n",
    "        self.softmax =  nn.Softmax(dim = 1)\n",
    "        \n",
    "        \n",
    "     #in this method we tell pytorch how to pass data from layer to another layer   \n",
    "    def forward(self, input_data):\n",
    "        x = self.conv1(input_data)\n",
    "        x = self.conv2(x)\n",
    "        x = self.conv3(x)\n",
    "        x = self.conv4(x)\n",
    "        x = self.flatten(x)\n",
    "        logits = self.linear(x)\n",
    "        predictions = self.softmax(logits)\n",
    "        return predictions\n",
    "        \n",
    "        \n",
    "            \n",
    "\n",
    "\n",
    "\n",
    "\n"
   ]
  },
  {
   "cell_type": "code",
   "execution_count": 92,
   "metadata": {
    "scrolled": true
   },
   "outputs": [
    {
     "name": "stdout",
     "output_type": "stream",
     "text": [
      "Using cpu\n",
      "----------------------------------------------------------------\n",
      "        Layer (type)               Output Shape         Param #\n",
      "================================================================\n",
      "            Conv2d-1           [-1, 16, 66, 46]             160\n",
      "              ReLU-2           [-1, 16, 66, 46]               0\n",
      "         MaxPool2d-3           [-1, 16, 33, 23]               0\n",
      "            Conv2d-4           [-1, 32, 35, 25]           4,640\n",
      "              ReLU-5           [-1, 32, 35, 25]               0\n",
      "         MaxPool2d-6           [-1, 32, 17, 12]               0\n",
      "            Conv2d-7           [-1, 64, 19, 14]          18,496\n",
      "              ReLU-8           [-1, 64, 19, 14]               0\n",
      "         MaxPool2d-9             [-1, 64, 9, 7]               0\n",
      "           Conv2d-10           [-1, 128, 11, 9]          73,856\n",
      "             ReLU-11           [-1, 128, 11, 9]               0\n",
      "        MaxPool2d-12            [-1, 128, 5, 4]               0\n",
      "          Flatten-13                 [-1, 2560]               0\n",
      "           Linear-14                    [-1, 8]          20,488\n",
      "          Softmax-15                    [-1, 8]               0\n",
      "================================================================\n",
      "Total params: 117,640\n",
      "Trainable params: 117,640\n",
      "Non-trainable params: 0\n",
      "----------------------------------------------------------------\n",
      "Input size (MB): 0.01\n",
      "Forward/backward pass size (MB): 1.83\n",
      "Params size (MB): 0.45\n",
      "Estimated Total Size (MB): 2.29\n",
      "----------------------------------------------------------------\n"
     ]
    }
   ],
   "source": [
    "if __name__ == \"__main__\":\n",
    "    if torch.cuda.is_available():\n",
    "        Device = \"cuda\"\n",
    "    else:\n",
    "        Device = \"cpu\"\n",
    "    print(f\"Using {Device}\")\n",
    "    cnn = CNN2D()\n",
    "    summary(cnn.to(Device), (1, 64, 44))  #summary(model, size of the spectogram)\n",
    "    \n",
    "    #warning: the input is on gpu that's why we have to have the model on the smae device"
   ]
  },
  {
   "cell_type": "code",
   "execution_count": 93,
   "metadata": {},
   "outputs": [],
   "source": [
    "import torch\n",
    "import torchaudio\n",
    "from torch import nn\n",
    "from torch.utils.data import DataLoader\n",
    "\n",
    "\n",
    "\n",
    "\n",
    "\n",
    "BATCH_SIZE = 32\n",
    "EPOCHS = 10\n",
    "LEARNING_RATE = 0.001\n",
    "\n",
    "\n",
    "SAMPLE_RATE = 22050\n",
    "NUM_SAMPLES = 22050\n",
    "\n",
    "\n",
    "\n",
    "\n",
    "def create_data_loader(train_data, batch_size):\n",
    "    train_dataloader = DataLoader(train_data, batch_size=BATCH_SIZE, shuffle=True)\n",
    "    return train_dataloader\n",
    "\n",
    "\n",
    "def train_single_epoch(model, data_loader, loss_fn, optimiser, device):\n",
    "    for in_put, target in data_loader:\n",
    "        in_put, target = in_put.to(device), target.to(device)\n",
    "\n",
    "        # calculate loss\n",
    "        prediction = model(in_put)\n",
    "        loss = loss_fn(prediction, target)\n",
    "\n",
    "        # backpropagate error and update weights\n",
    "        optimiser.zero_grad()\n",
    "        loss.backward()\n",
    "        optimiser.step()\n",
    "\n",
    "    print(f\"loss: {loss.item()}\")\n",
    "\n",
    "\n",
    "def train_model(model, data_loader, loss_fn, optimiser, device, epochs):\n",
    "    for i in range(epochs):\n",
    "        print(f\"Epoch {i+1}\")\n",
    "        train_single_epoch(model, data_loader, loss_fn, optimiser, device)\n",
    "        print(\"---------------------------\")\n",
    "    print(\"Finished training\")"
   ]
  },
  {
   "cell_type": "code",
   "execution_count": 94,
   "metadata": {
    "scrolled": false
   },
   "outputs": [
    {
     "name": "stdout",
     "output_type": "stream",
     "text": [
      "Using cpu\n",
      "CNN2D(\n",
      "  (conv1): Sequential(\n",
      "    (0): Conv2d(1, 16, kernel_size=(3, 3), stride=(1, 1), padding=(2, 2))\n",
      "    (1): ReLU()\n",
      "    (2): MaxPool2d(kernel_size=2, stride=2, padding=0, dilation=1, ceil_mode=False)\n",
      "  )\n",
      "  (conv2): Sequential(\n",
      "    (0): Conv2d(16, 32, kernel_size=(3, 3), stride=(1, 1), padding=(2, 2))\n",
      "    (1): ReLU()\n",
      "    (2): MaxPool2d(kernel_size=2, stride=2, padding=0, dilation=1, ceil_mode=False)\n",
      "  )\n",
      "  (conv3): Sequential(\n",
      "    (0): Conv2d(32, 64, kernel_size=(3, 3), stride=(1, 1), padding=(2, 2))\n",
      "    (1): ReLU()\n",
      "    (2): MaxPool2d(kernel_size=2, stride=2, padding=0, dilation=1, ceil_mode=False)\n",
      "  )\n",
      "  (conv4): Sequential(\n",
      "    (0): Conv2d(64, 128, kernel_size=(3, 3), stride=(1, 1), padding=(2, 2))\n",
      "    (1): ReLU()\n",
      "    (2): MaxPool2d(kernel_size=2, stride=2, padding=0, dilation=1, ceil_mode=False)\n",
      "  )\n",
      "  (flatten): Flatten(start_dim=1, end_dim=-1)\n",
      "  (linear): Linear(in_features=2560, out_features=8, bias=True)\n",
      "  (softmax): Softmax(dim=1)\n",
      ")\n",
      "Epoch 1\n",
      "loss: 1.9835455417633057\n",
      "---------------------------\n",
      "Epoch 2\n",
      "loss: 1.951399803161621\n",
      "---------------------------\n",
      "Epoch 3\n",
      "loss: 1.8869116306304932\n",
      "---------------------------\n",
      "Epoch 4\n",
      "loss: 1.983686089515686\n",
      "---------------------------\n",
      "Epoch 5\n",
      "loss: 1.9719469547271729\n",
      "---------------------------\n",
      "Epoch 6\n",
      "loss: 1.8546539545059204\n",
      "---------------------------\n",
      "Epoch 7\n",
      "loss: 1.838850736618042\n",
      "---------------------------\n",
      "Epoch 8\n",
      "loss: 1.9191700220108032\n",
      "---------------------------\n",
      "Epoch 9\n",
      "loss: 1.8869121074676514\n",
      "---------------------------\n",
      "Epoch 10\n",
      "loss: 1.9191700220108032\n",
      "---------------------------\n",
      "Finished training\n",
      "Trained feed forward net saved at feedforwardnet.pth\n"
     ]
    }
   ],
   "source": [
    "if __name__ == \"__main__\":\n",
    "    if torch.cuda.is_available():\n",
    "        Device = \"cuda\"\n",
    "    else:\n",
    "        Device = \"cpu\"\n",
    "    print(f\"Using {Device}\")\n",
    "\n",
    "    # instantiating our dataset object and create data loader\n",
    "    \n",
    "    #transform\n",
    "    mel_spectrogram = torchaudio.transforms.MelSpectrogram(sample_rate = SAMPLE_RATE, n_fft = 1024, hop_length = 512,\n",
    "                                                        n_mels = 64) \n",
    "    # \n",
    "    FL = FMA(DATA_DIR, train, SAMPLE_RATE, mel_spectrogram, NUM_SAMPLES, Device, twoD =True)\n",
    "    \n",
    "    train_dataloader = create_data_loader(FL, BATCH_SIZE)\n",
    "    \n",
    "\n",
    "\n",
    "    # construct model and assign it to device\n",
    "    cnn = CNN2D().to(Device)\n",
    "    print(cnn)\n",
    "\n",
    "    # initialise loss funtion + optimiser\n",
    "    loss_fn = nn.CrossEntropyLoss()\n",
    "    optimiser = torch.optim.Adam(cnn.parameters(),\n",
    "                                 lr=LEARNING_RATE)\n",
    "\n",
    "\n",
    "    # train model\n",
    "    train_model(cnn, train_dataloader, loss_fn, optimiser, Device, EPOCHS)\n",
    "\n",
    "    # save model\n",
    "    torch.save(cnn.state_dict(), \"feedforwardnet.pth\")\n",
    "    print(\"Trained feed forward net saved at feedforwardnet.pth\")\n"
   ]
  },
  {
   "cell_type": "code",
   "execution_count": 95,
   "metadata": {},
   "outputs": [
    {
     "data": {
      "text/plain": [
       "torch.Size([1, 64, 44])"
      ]
     },
     "execution_count": 95,
     "metadata": {},
     "output_type": "execute_result"
    }
   ],
   "source": [
    "waveform.shape"
   ]
  }
 ],
 "metadata": {
  "kernelspec": {
   "display_name": "Python [conda env:fma]",
   "language": "python",
   "name": "conda-env-fma-py"
  },
  "language_info": {
   "codemirror_mode": {
    "name": "ipython",
    "version": 3
   },
   "file_extension": ".py",
   "mimetype": "text/x-python",
   "name": "python",
   "nbconvert_exporter": "python",
   "pygments_lexer": "ipython3",
   "version": "3.6.13"
  }
 },
 "nbformat": 4,
 "nbformat_minor": 2
}

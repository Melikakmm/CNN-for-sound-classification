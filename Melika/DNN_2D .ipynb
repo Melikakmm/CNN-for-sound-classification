{
 "cells": [
  {
   "cell_type": "code",
   "execution_count": 1,
   "metadata": {
    "scrolled": true
   },
   "outputs": [],
   "source": [
    "import os\n",
    "# from tqdm import tqdm\n",
    "import torch\n",
    "import torchaudio\n",
    "import torch.nn as nn\n",
    "import torch.nn.functional as F  \n",
    "from torch.utils.data import Dataset, DataLoader\n",
    "import numpy as np\n",
    "import pandas as pd\n",
    "import copy\n",
    "from torchsummary import summary"
   ]
  },
  {
   "cell_type": "code",
   "execution_count": 2,
   "metadata": {},
   "outputs": [],
   "source": [
    "from sklearn.preprocessing import MultiLabelBinarizer, LabelEncoder, LabelBinarizer, StandardScaler"
   ]
  },
  {
   "cell_type": "code",
   "execution_count": 3,
   "metadata": {},
   "outputs": [],
   "source": [
    "import utils"
   ]
  },
  {
   "cell_type": "code",
   "execution_count": 4,
   "metadata": {},
   "outputs": [],
   "source": [
    "# define device\n",
    "device = torch.device(\"cuda\" if torch.cuda.is_available() else \"cpu\")"
   ]
  },
  {
   "cell_type": "code",
   "execution_count": 5,
   "metadata": {
    "scrolled": true
   },
   "outputs": [
    {
     "name": "stdout",
     "output_type": "stream",
     "text": [
      "Not enough Echonest features: (13129, 767)\n"
     ]
    }
   ],
   "source": [
    "DATA_DIR = '/Users/melikakeshavarz/desktop/new/data/fma_small'\n",
    "\n",
    "tracks = utils.load('/Users/melikakeshavarz/desktop/new/data/fma_metadata/tracks.csv')\n",
    "features = utils.load('/Users/melikakeshavarz/desktop/new/data/fma_metadata/features.csv')#annotation files\n",
    "echonest = utils.load('/Users/melikakeshavarz/desktop/new/data/fma_metadata/echonest.csv')\n",
    "\n",
    "subset = tracks.index[tracks['set', 'subset'] <= 'small']\n",
    "\n",
    "assert subset.isin(tracks.index).all()\n",
    "assert subset.isin(features.index).all()\n",
    "\n",
    "features_all = features.join(echonest, how='inner').sort_index(axis=1)\n",
    "print('Not enough Echonest features: {}'.format(features_all.shape))\n",
    "\n",
    "tracks = tracks.loc[subset]\n",
    "features_all = features.loc[subset]\n",
    "\n",
    "tracks.shape, features_all.shape\n",
    "\n",
    "train = tracks.index[tracks['set', 'split'] == 'training'] #bunch of indexes (not ids) for training val and test\n",
    "val = tracks.index[tracks['set', 'split'] == 'validation']\n",
    "test = tracks.index[tracks['set', 'split'] == 'test']"
   ]
  },
  {
   "cell_type": "code",
   "execution_count": 6,
   "metadata": {
    "scrolled": false
   },
   "outputs": [],
   "source": [
    "#pause\n",
    "labels_onehot = LabelBinarizer().fit_transform(tracks['track', 'genre_top'])\n",
    "labels_onehot = pd.DataFrame(labels_onehot, index=tracks.index)\n"
   ]
  },
  {
   "cell_type": "code",
   "execution_count": 7,
   "metadata": {},
   "outputs": [],
   "source": [
    "#Meeeeeeeeeee\n",
    "\n",
    "#custome dataset class\n",
    "\n",
    "\n",
    "\n",
    "from torch.utils.data import Dataset, DataLoader\n",
    "\n",
    "\n",
    "\n",
    "class FMA(Dataset):\n",
    "    def __init__(self, data_dir, track_ids, target_sample_rate, transformation, num_samples, device , twoD = False):\n",
    "        self.data_dir = data_dir\n",
    "        self.track_ids = track_ids\n",
    "        self.filenames = os.listdir(data_dir)\n",
    "        self.target_sample_rate = target_sample_rate\n",
    "        self.device = device\n",
    "        self.transformation = transformation.to(self.device)\n",
    "        self.twoD = twoD\n",
    "        self.num_samples = num_samples\n",
    "        \n",
    "        \n",
    "\n",
    "    def __getitem__(self, index):\n",
    "        tid = self.track_ids[index]\n",
    "        filepath = utils.get_audio_path(self.data_dir, tid)\n",
    "        label = torch.from_numpy(labels_onehot.loc[tid].values).float()\n",
    "        waveform, sr = torchaudio.load(filepath)#be careful all of the sample rates aren't the same(resample)\n",
    "        #waveform --> (2, 10000) #(number of channels, number of samples)\n",
    "        waveform = waveform.to(self.device)\n",
    "        waveform = self._resample_if_necessary(waveform, sr)\n",
    "        waveform = self._mix_down_if_necessary(waveform)\n",
    "        #we have to adjust the length of the audio waveforms before the transformation\n",
    "        waveform = self._cut_if_necessary(waveform)\n",
    "        waveform = self._right_pad_if_necessary(waveform)\n",
    "        if self.twoD == True:\n",
    "            waveform = self.transformation(waveform)\n",
    "        else:\n",
    "            pass\n",
    "        return waveform, label\n",
    "    \n",
    "    \n",
    "    def _cut_if_necessary(self, waveform):\n",
    "        #this method happens before the transformation\n",
    "        if waveform.shape[1] > self.num_samples:\n",
    "            waveform = waveform[:, :self.num_samples]\n",
    "            return waveform\n",
    "        \n",
    "        \n",
    "    def _right_pad_if_necessary(self, waveform):\n",
    "        if waveform.shape[1] < self.num_samples:\n",
    "            num_missing_samples = self.num_samples - waveform.shape[1]\n",
    "            last_dim_padding = (0,num_missing_samples) # (1, 2) -> (left, right)   \n",
    "            #(1, 2, 0, 1) -> (left, right, padnumleft, padnumright)\n",
    "            # what happens is : [1, 1, 1] --> [0, 1, 1, 1, 0, 0]\n",
    "            waveform = torch.nn.functional.pad(waveform, last_dim_padding)\n",
    "            waveform = waveform.T\n",
    "        return waveform\n",
    "    \n",
    "    \n",
    "        \n",
    "    def _resample_if_necessary(self, waveform , sr):\n",
    "        if sr != self.target_sample_rate:\n",
    "            resampler = torchaudio.transforms.Resample(sr, self.target_sample_rate)\n",
    "            waveform = resampler(waveform)\n",
    "        return waveform\n",
    "    \n",
    "    \n",
    "    #from (2, 10000) to (1, 0000) taking the average between two waveforms\n",
    "    def _mix_down_if_necessary(self, waveform):\n",
    "        if waveform.shape[0] > 1:\n",
    "            waveform = torch.mean(waveform , dim = 0, keepdim = True)\n",
    "        return waveform\n",
    "        \n",
    "    \n",
    "        return waveform.T, label \n",
    "    \n",
    "    def __len__(self):#just gives us the number of samples in our datasets.\n",
    "        return len(self.filenames) \n",
    "\n",
    "        \n",
    "\n",
    "        "
   ]
  },
  {
   "cell_type": "code",
   "execution_count": 8,
   "metadata": {
    "scrolled": true
   },
   "outputs": [
    {
     "name": "stdout",
     "output_type": "stream",
     "text": [
      "we are using cpu.\n"
     ]
    }
   ],
   "source": [
    "#trying the class:\n",
    "\n",
    "if __name__ == \"__main__\":\n",
    "    \n",
    "\n",
    "    SAMPLE_RATE=44100\n",
    "    \n",
    "    #maxlength\n",
    "    NUM_SAMPLES = 1320000\n",
    "    #working on GPU\n",
    "    if torch.cuda.is_available():\n",
    "        Device = \"cuda\"\n",
    "    else:\n",
    "        Device = \"cpu\"\n",
    "        \n",
    "    print(f\"we are using {Device}.\")  \n",
    "    \n",
    "    \n",
    "    mel_spectrogram = torchaudio.transforms.MelSpectrogram(sample_rate = SAMPLE_RATE, n_fft = 1024, hop_length = 512,\n",
    "                                                        n_mels = 64) \n",
    "    \n",
    "    FL = FMA(DATA_DIR, train, SAMPLE_RATE, mel_spectrogram, NUM_SAMPLES, Device, twoD =True)\n",
    "    #print(f\"there are {len(FL)} samples in the dataset\" )\n",
    "    waveform, label = FL[0] #track number 2\n",
    "    a = 1\n",
    "    \n",
    "    \n"
   ]
  },
  {
   "cell_type": "code",
   "execution_count": 9,
   "metadata": {},
   "outputs": [
    {
     "data": {
      "text/plain": [
       "torch.Size([1, 64, 2579])"
      ]
     },
     "execution_count": 9,
     "metadata": {},
     "output_type": "execute_result"
    }
   ],
   "source": [
    "# If melspectrogram is applied\n",
    "\n",
    "waveform.shape"
   ]
  },
  {
   "cell_type": "code",
   "execution_count": 10,
   "metadata": {},
   "outputs": [],
   "source": [
    "####### very bad 2D architecture :))))))) just a test\n",
    "from torch import nn\n",
    "\n",
    "class CNN2D(nn.Module):\n",
    "    \n",
    "    \n",
    "    def __init__(self):\n",
    "        #vgg\n",
    "        super().__init__()\n",
    "        #4 conv blocks / flatten / linear / softmax\n",
    "        self.conv1 = nn.Sequential(nn.Conv2d(in_channels =1, out_channels =16, kernel_size =3, stride =1, padding =2),\n",
    "                                  nn.ReLU(),\n",
    "                                  nn.MaxPool2d(kernel_size = 2))\n",
    "        \n",
    "        \n",
    "        \n",
    "        \n",
    "        self.conv2 = nn.Sequential(nn.Conv2d(in_channels =16, out_channels =32, kernel_size =3, stride =1, padding =2),\n",
    "                                  nn.ReLU(),\n",
    "                                  nn.MaxPool2d(kernel_size = 2))\n",
    "        \n",
    "        \n",
    "        \n",
    "        self.conv3 = nn.Sequential(nn.Conv2d(in_channels =32, out_channels =64, kernel_size =3, stride =1, padding =2),\n",
    "                                  nn.ReLU(),\n",
    "                                  nn.MaxPool2d(kernel_size = 2))\n",
    "        \n",
    "        \n",
    "        \n",
    "        self.conv4 = nn.Sequential(nn.Conv2d(in_channels =64, out_channels =128, kernel_size =3, stride =1, padding =2),\n",
    "                                  nn.ReLU(),\n",
    "                                  nn.MaxPool2d(kernel_size = 2))\n",
    "        \n",
    "        \n",
    "\n",
    "        \n",
    "        self.flatten = nn.Flatten()\n",
    "        self.linear = nn.Linear(128*815, 8)\n",
    "        self.softmax =  nn.Softmax(dim = 1)\n",
    "        \n",
    "        \n",
    "     #in this method we tell pytorch how to pass data from layer to another layer   \n",
    "    def forward(self, input_data):\n",
    "        x = self.conv1(input_data)\n",
    "        x = self.conv2(x)\n",
    "        x = self.conv3(x)\n",
    "        x = self.conv4(x)\n",
    "        x = self.flatten(x)\n",
    "        logits = self.linear(x)\n",
    "        predictions = self.softmax(logits)\n",
    "        return predictions\n",
    "        \n",
    "        \n",
    "            \n",
    "\n",
    "\n",
    "\n",
    "\n"
   ]
  },
  {
   "cell_type": "code",
   "execution_count": 11,
   "metadata": {
    "scrolled": false
   },
   "outputs": [
    {
     "name": "stdout",
     "output_type": "stream",
     "text": [
      "Using cpu\n",
      "----------------------------------------------------------------\n",
      "        Layer (type)               Output Shape         Param #\n",
      "================================================================\n",
      "            Conv2d-1         [-1, 16, 66, 2581]             160\n",
      "              ReLU-2         [-1, 16, 66, 2581]               0\n",
      "         MaxPool2d-3         [-1, 16, 33, 1290]               0\n",
      "            Conv2d-4         [-1, 32, 35, 1292]           4,640\n",
      "              ReLU-5         [-1, 32, 35, 1292]               0\n",
      "         MaxPool2d-6          [-1, 32, 17, 646]               0\n",
      "            Conv2d-7          [-1, 64, 19, 648]          18,496\n",
      "              ReLU-8          [-1, 64, 19, 648]               0\n",
      "         MaxPool2d-9           [-1, 64, 9, 324]               0\n",
      "           Conv2d-10         [-1, 128, 11, 326]          73,856\n",
      "             ReLU-11         [-1, 128, 11, 326]               0\n",
      "        MaxPool2d-12          [-1, 128, 5, 163]               0\n",
      "          Flatten-13               [-1, 104320]               0\n",
      "           Linear-14                    [-1, 8]         834,568\n",
      "          Softmax-15                    [-1, 8]               0\n",
      "================================================================\n",
      "Total params: 931,720\n",
      "Trainable params: 931,720\n",
      "Non-trainable params: 0\n",
      "----------------------------------------------------------------\n",
      "Input size (MB): 0.63\n",
      "Forward/backward pass size (MB): 93.59\n",
      "Params size (MB): 3.55\n",
      "Estimated Total Size (MB): 97.77\n",
      "----------------------------------------------------------------\n"
     ]
    }
   ],
   "source": [
    "if __name__ == \"__main__\":\n",
    "    if torch.cuda.is_available():\n",
    "        Device = \"cuda\"\n",
    "    else:\n",
    "        Device = \"cpu\"\n",
    "    print(f\"Using {Device}\")\n",
    "    cnn = CNN2D()\n",
    "    summary(cnn.to(Device), (1, 64, 2579))  #summary(model, size of the spectogram)\n",
    "    \n",
    "    #warning: the input is on gpu that's why we have to have the model on the smae device"
   ]
  },
  {
   "cell_type": "code",
   "execution_count": 12,
   "metadata": {},
   "outputs": [
    {
     "data": {
      "text/plain": [
       "torch.Size([1, 64, 2579])"
      ]
     },
     "execution_count": 12,
     "metadata": {},
     "output_type": "execute_result"
    }
   ],
   "source": [
    "waveform.shape"
   ]
  },
  {
   "cell_type": "code",
   "execution_count": 13,
   "metadata": {},
   "outputs": [
    {
     "name": "stdout",
     "output_type": "stream",
     "text": [
      "[1,   192 subsamples] Training loss: 1.992\n",
      "Validation Loss: 2.1626 | Validation Accuracy: 0.0943 | Training Accuracy: 0.2767\n",
      "[2,   384 subsamples] Training loss: 1.880\n",
      "Validation Loss: 2.1903 | Validation Accuracy: 0.0943 | Training Accuracy: 0.4025\n",
      "[3,   576 subsamples] Training loss: 1.863\n",
      "Validation Loss: 2.1737 | Validation Accuracy: 0.0943 | Training Accuracy: 0.4025\n",
      "[4,   768 subsamples] Training loss: 1.896\n",
      "Validation Loss: 2.1737 | Validation Accuracy: 0.0943 | Training Accuracy: 0.4025\n",
      "[5,   960 subsamples] Training loss: 1.869\n",
      "Validation Loss: 2.1571 | Validation Accuracy: 0.0943 | Training Accuracy: 0.4025\n",
      "[6,  1152 subsamples] Training loss: 1.874\n",
      "Validation Loss: 2.1903 | Validation Accuracy: 0.0943 | Training Accuracy: 0.4025\n",
      "[7,  1344 subsamples] Training loss: 1.880\n",
      "Validation Loss: 2.1848 | Validation Accuracy: 0.0943 | Training Accuracy: 0.4025\n",
      "[8,  1536 subsamples] Training loss: 1.863\n",
      "Validation Loss: 2.1848 | Validation Accuracy: 0.0943 | Training Accuracy: 0.4025\n",
      "[9,  1728 subsamples] Training loss: 1.858\n",
      "Validation Loss: 2.1848 | Validation Accuracy: 0.0943 | Training Accuracy: 0.4025\n",
      "[10,  1920 subsamples] Training loss: 1.880\n",
      "Validation Loss: 2.1737 | Validation Accuracy: 0.0943 | Training Accuracy: 0.4025\n",
      "Finished Training\n"
     ]
    }
   ],
   "source": [
    "BATCH = 64\n",
    "\n",
    "# create a training dataset and dataloader\n",
    "FL = FMA(DATA_DIR, train, SAMPLE_RATE, mel_spectrogram, NUM_SAMPLES, Device, twoD =True)\n",
    "val_dataset = FMA(DATA_DIR, val, SAMPLE_RATE, mel_spectrogram, NUM_SAMPLES, Device, twoD =True)\n",
    "dataloader = torch.utils.data.DataLoader(FL, batch_size=BATCH, shuffle=True)\n",
    "\n",
    "# create a validation dataset and dataloader\n",
    "FL = FMA(DATA_DIR, val, SAMPLE_RATE, mel_spectrogram, NUM_SAMPLES, Device, twoD =True)\n",
    "val_dataloader = torch.utils.data.DataLoader(val_dataset, batch_size=BATCH, shuffle=True)\n",
    "\n",
    "    \n",
    "# create the CNN model\n",
    "model = CNN2D().to(Device) # HERE YOU PUT UR NETWORK\n",
    "model.to(device)\n",
    "\n",
    "# define the loss function and the optimizer\n",
    "loss_fn = nn.CrossEntropyLoss()\n",
    "\n",
    "# Adam optimizer\n",
    "# optimizer = torch.optim.Adam(model.parameters())\n",
    "\n",
    "\n",
    "# Allamy 2021\n",
    "# Define the optimizer\n",
    "optimizer = torch.optim.SGD(model.parameters(), lr=0.01, momentum=0.9, nesterov=True)\n",
    "\n",
    "# Define the scheduler\n",
    "scheduler = torch.optim.lr_scheduler.ReduceLROnPlateau(optimizer, 'min', factor=0.2, patience=5)\n",
    "\n",
    "\n",
    "\n",
    "num_epochs = 10\n",
    "i = 0\n",
    "running_loss = 0.0\n",
    "\n",
    "\n",
    "    \n",
    "# train the model\n",
    "for epoch in range(num_epochs):\n",
    "    # evaluate the model on the training dataset\n",
    "    train_correct = 0\n",
    "    train_total = 0\n",
    "    for waveform, label in dataloader:\n",
    "        label = label.to(device)\n",
    "        train_label = torch.argmax(label, dim=1)\n",
    "\n",
    "        # clear the gradients\n",
    "        optimizer.zero_grad()\n",
    "\n",
    "        # forward pass\n",
    "        waveform = waveform.squeeze(0)\n",
    "\n",
    "        \n",
    "        waveform = waveform.to(device)\n",
    "        output = model(waveform)\n",
    "            \n",
    "        loss = loss_fn(output, label)\n",
    "\n",
    "        # backward pass\n",
    "        loss.backward()\n",
    "        optimizer.step()  \n",
    "        \n",
    "        # Update the learning rate\n",
    "        scheduler.step(loss)\n",
    "            \n",
    "        _, train_predicted = torch.max(output.data, 1)\n",
    "        train_total += train_label.size(0)\n",
    "        train_correct += (train_predicted == train_label).sum().item()\n",
    "        # print statistics\n",
    "        i += 1\n",
    "        running_loss += loss.item()\n",
    "            \n",
    "           \n",
    "    print('[%d, %5d subsamples] Training loss: %.3f' % (epoch + 1, i*BATCH, running_loss / len(dataloader)))\n",
    "    running_loss = 0            \n",
    "    # evaluate the model on the validation dataset\n",
    "    val_loss = 0.0\n",
    "    val_correct = 0\n",
    "    val_total = 0\n",
    "    with torch.no_grad():\n",
    "        for val_waveform, val_label in val_dataloader:\n",
    "            val_label = val_label.to(device)\n",
    "            val_label = torch.argmax(val_label, dim=1)\n",
    "            val_waveform = val_waveform.squeeze(0)\n",
    "            \n",
    "            val_waveform = val_waveform.to(device)\n",
    "            val_output = model(val_waveform)\n",
    "            val_loss += loss_fn(val_output, val_label).item()\n",
    "            _, val_predicted = torch.max(val_output.data, 1)\n",
    "            val_total += val_label.size(0)\n",
    "            val_correct += (val_predicted == val_label).sum().item()\n",
    "\n",
    "\n",
    "    print('Validation Loss: {:.4f} | Validation Accuracy: {:.4f} | Training Accuracy: {:.4f}'.format(val_loss / len(val_dataloader), val_correct / val_total, train_correct / train_total))\n",
    "print('Finished Training')"
   ]
  },
  {
   "cell_type": "code",
   "execution_count": 14,
   "metadata": {},
   "outputs": [
    {
     "data": {
      "text/plain": [
       "torch.Size([31, 1, 64, 2579])"
      ]
     },
     "execution_count": 14,
     "metadata": {},
     "output_type": "execute_result"
    }
   ],
   "source": [
    "waveform.shape"
   ]
  }
 ],
 "metadata": {
  "kernelspec": {
   "display_name": "Python [conda env:fma]",
   "language": "python",
   "name": "conda-env-fma-py"
  },
  "language_info": {
   "codemirror_mode": {
    "name": "ipython",
    "version": 3
   },
   "file_extension": ".py",
   "mimetype": "text/x-python",
   "name": "python",
   "nbconvert_exporter": "python",
   "pygments_lexer": "ipython3",
   "version": "3.6.13"
  }
 },
 "nbformat": 4,
 "nbformat_minor": 2
}
